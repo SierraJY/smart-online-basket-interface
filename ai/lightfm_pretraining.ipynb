{
 "cells": [
  {
   "cell_type": "code",
   "execution_count": 2,
   "id": "7a991eb8",
   "metadata": {},
   "outputs": [
    {
     "name": "stderr",
     "output_type": "stream",
     "text": [
      "c:\\Users\\SSAFY\\Desktop\\S13P11B103\\ai\\venv\\lib\\site-packages\\lightfm\\_lightfm_fast.py:9: UserWarning: LightFM was compiled without OpenMP support. Only a single thread will be used.\n",
      "  warnings.warn(\n"
     ]
    }
   ],
   "source": [
    "import numpy as np\n",
    "import pandas as pd\n",
    "from scipy.sparse import coo_matrix\n",
    "from sklearn.preprocessing import LabelEncoder\n",
    "from lightfm import LightFM"
   ]
  },
  {
   "cell_type": "code",
   "execution_count": 3,
   "id": "9c4f939a",
   "metadata": {},
   "outputs": [],
   "source": [
    "# 데이터 로드\n",
    "\n",
    "orders = pd.read_csv('./data/orders.csv')\n",
    "order_products = pd.read_csv('./data/order_products__prior.csv')\n",
    "products = pd.read_csv('./data/products.csv')"
   ]
  },
  {
   "cell_type": "code",
   "execution_count": 4,
   "id": "ab456152",
   "metadata": {},
   "outputs": [],
   "source": [
    "# Interaction Matrix 생성\n",
    "\n",
    "merged = orders.merge(order_products, on='order_id')\n",
    "df = merged[['user_id', 'product_id']]\n",
    "\n",
    "user_encoder = LabelEncoder()\n",
    "item_encoder = LabelEncoder()\n",
    "\n",
    "user_ids = user_encoder.fit_transform(df['user_id'])\n",
    "item_ids = item_encoder.fit_transform(df['product_id'])\n",
    "\n",
    "data = np.ones(len(user_ids))\n",
    "\n",
    "interaction_matrix = coo_matrix((data, (user_ids, item_ids)))\n"
   ]
  },
  {
   "cell_type": "code",
   "execution_count": 5,
   "id": "f1430b86",
   "metadata": {},
   "outputs": [
    {
     "data": {
      "text/plain": [
       "(206209, 49677)"
      ]
     },
     "execution_count": 5,
     "metadata": {},
     "output_type": "execute_result"
    }
   ],
   "source": [
    "interaction_matrix.shape"
   ]
  },
  {
   "cell_type": "code",
   "execution_count": 6,
   "id": "f521c6b1",
   "metadata": {},
   "outputs": [],
   "source": [
    "# 검증용 데이터 분리\n",
    "\n",
    "from lightfm.cross_validation import random_train_test_split\n",
    "\n",
    "train, test = random_train_test_split(interaction_matrix, test_percentage=0.2)"
   ]
  },
  {
   "cell_type": "code",
   "execution_count": 7,
   "id": "95b87788",
   "metadata": {},
   "outputs": [
    {
     "name": "stdout",
     "output_type": "stream",
     "text": [
      "(206209, 49677) (206209, 49677)\n"
     ]
    }
   ],
   "source": [
    "print(train.shape, test.shape)"
   ]
  },
  {
   "cell_type": "code",
   "execution_count": 8,
   "id": "08770f0e",
   "metadata": {},
   "outputs": [
    {
     "name": "stdout",
     "output_type": "stream",
     "text": [
      "25947591 6486898 32434489\n"
     ]
    }
   ],
   "source": [
    "print(train.getnnz(), test.getnnz(), interaction_matrix.getnnz())"
   ]
  },
  {
   "cell_type": "code",
   "execution_count": null,
   "id": "01fafff4",
   "metadata": {},
   "outputs": [],
   "source": [
    "from scipy.sparse import issparse\n",
    "\n",
    "print(type(train), train.getformat())\n",
    "print(type(test), test.getformat())"
   ]
  },
  {
   "cell_type": "code",
   "execution_count": 9,
   "id": "f12a3430",
   "metadata": {},
   "outputs": [
    {
     "ename": "",
     "evalue": "",
     "output_type": "error",
     "traceback": [
      "\u001b[1;31mThe Kernel crashed while executing code in the current cell or a previous cell. \n",
      "\u001b[1;31mPlease review the code in the cell(s) to identify a possible cause of the failure. \n",
      "\u001b[1;31mClick <a href='https://aka.ms/vscodeJupyterKernelCrash'>here</a> for more info. \n",
      "\u001b[1;31mView Jupyter <a href='command:jupyter.viewOutput'>log</a> for further details."
     ]
    }
   ],
   "source": [
    "# LightFM 모델 학습\n",
    "\n",
    "from lightfm.evaluation import auc_score\n",
    "\n",
    "model = LightFM(\n",
    "    no_components=50,\n",
    "    loss='warp',\n",
    "    learning_rate=0.03,\n",
    "    item_alpha=1e-6,\n",
    "    user_alpha=1e-6\n",
    ")\n",
    "\n",
    "model.fit(train, epochs=5, num_threads=1)\n",
    "\n",
    "sample_users = np.random.choice(train.shape[0], size=100, replace=False)\n",
    "score = auc_score(model, test, user_ids=sample_users, num_threads=1).mean()\n",
    "print(f\"AUC (100 users): {score:.4f}\")"
   ]
  },
  {
   "cell_type": "code",
   "execution_count": null,
   "id": "befb11f9",
   "metadata": {},
   "outputs": [],
   "source": []
  },
  {
   "cell_type": "code",
   "execution_count": null,
   "id": "aa5fab16",
   "metadata": {},
   "outputs": [],
   "source": [
    "from numpy import dot\n",
    "from numpy.linalg import norm\n",
    "\n",
    "target_product_name = \"Coca Cola Classic\"  # 예시\n",
    "\n",
    "target_product_id = products[products['product_name'] == target_product_name]['product_id'].values[0]\n",
    "target_encoded_id = item_encoder.transform([target_product_id])[0]\n",
    "\n",
    "target_vec = model.item_embeddings[target_encoded_id]\n",
    "\n",
    "all_item_vecs = model.item_embeddings\n",
    "cos_sim = all_item_vecs @ target_vec / (norm(all_item_vecs, axis=1) * norm(target_vec))\n",
    "\n",
    "top_sim_items = np.argsort(-cos_sim)[:10]\n",
    "recommended_product_ids = item_encoder.inverse_transform(top_sim_items)\n",
    "\n",
    "products[products['product_id'].isin(recommended_product_ids)][['product_id', 'product_name']]\n"
   ]
  }
 ],
 "metadata": {
  "kernelspec": {
   "display_name": "Python (AI-lightfm)",
   "language": "python",
   "name": "ai-lightfm"
  },
  "language_info": {
   "codemirror_mode": {
    "name": "ipython",
    "version": 3
   },
   "file_extension": ".py",
   "mimetype": "text/x-python",
   "name": "python",
   "nbconvert_exporter": "python",
   "pygments_lexer": "ipython3",
   "version": "3.10.11"
  }
 },
 "nbformat": 4,
 "nbformat_minor": 5
}
